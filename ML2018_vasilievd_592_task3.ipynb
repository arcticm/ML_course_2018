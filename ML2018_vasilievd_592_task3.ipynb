{
 "cells": [
  {
   "cell_type": "markdown",
   "metadata": {
    "deletable": true,
    "editable": true
   },
   "source": [
    "# Домашнее задание №3 "
   ]
  },
  {
   "cell_type": "markdown",
   "metadata": {
    "deletable": true,
    "editable": true
   },
   "source": [
    "## Часть 1. Теоретические задачи ##"
   ]
  },
  {
   "cell_type": "markdown",
   "metadata": {
    "deletable": true,
    "editable": true
   },
   "source": [
    "### Задача №1 (10% баллов) ###"
   ]
  },
  {
   "cell_type": "markdown",
   "metadata": {
    "deletable": true,
    "editable": true
   },
   "source": [
    "Предположим, что мы решаем задачу бинарной классификации и что у нас есть три алгоритма $b_1(x), b_2(x), b_3(x)$, каждый из которых ошибается с вероятностью $p$. Мы строим композицию взвешенным голосованием: алгоритмам присвоены значимости $w_1, w_2, w_3$, и для вынесения вердикта суммируются значимости алгоритмов, проголосовавших за каждый из классов: $$a_1 = \\sum_{i=1}^3 w_i[b_i(x)=1]$$ Объект $x$ относится к классу, для которого такая сумма оказалась максимальной. Какова вероятность ошибки такой композиции этих трёх алгоритмов, если:\n",
    "1. $w_1 = 0.2, w_2 = 0.3, w_3 = 0.2$;\n",
    "1. $w_1 = 0.2, w_2 = 0.5, w_3 = 0.2$?"
   ]
  },
  {
   "cell_type": "markdown",
   "metadata": {
    "deletable": true,
    "editable": true
   },
   "source": [
    "** Решение **:\n",
    "1) Пусть $w_1 = 0.2, w_2 = 0.3, w_3 = 0.2$. Предположим, что объект $x$ принадлежит классу 0, т.е. вероятность выбора алгоритмом 0 есть $1-p$, а вероятность совершить ошибку = выбрать 1 есть $p$. В каких случаях данная композиция совершит ошибку, т.е. выберет класс 1? Во-первых, когда все три алгоритма выберут 1. Во-вторых, когда первые два выберут 1, а третий 0 ($w_1 + w_2 > w_3$). В-третьих, когда $b_1$ и $b_3$ выберут 1, а $b_2$ выберет 0 ($w_1 + w_3 > w_2$). И, наконец, когда первый проголосует за 0, а два остальных за 1 ($w_1 < w_2 + w_3$). Теперь рассмотрены все случаи ошибок данной композиции и можно легко посчитать вероятность ошибки:\n",
    "$$P = p^3 + p^2 \\cdot (1-p) \\cdot 3 = 3p^2 - 2p^3$$\n",
    "\n",
    "2) Пусть $w_1 = 0.2, w_2 = 0.5, w_3 = 0.2$. По аналогии с пунктом 1 рассмотрим те случаи, когда композиция выдаст ошибку. Во-первых, когда все ри алгоритма выберут 1. Во-вторых, когда первый и третий выберут 0, а второй 1 ($w_1 + w_3 < w_2$). В-третьих, когда $b_1$ и $b_2$ выберут 1, а $b_3$ выберет 0 ($w_1 + w_2 > w_3$). И, наконец, когда второй и третий алгоритмы выберут 1, а первый выберет 0 ($w_1 < w_2 + w_3$). Теперь можем посчитать вероятность ошибки композиции: $$ P = p^3 + (1-p)^2 \\cdot p + p^2 \\cdot (1-p) + p^2 \\cdot (1-p) = p^3 + (1-2p+p^2) \\cdot p + 2p^2 - 2p^3 = p.$$"
   ]
  },
  {
   "cell_type": "markdown",
   "metadata": {
    "deletable": true,
    "editable": true
   },
   "source": [
    "### Задача №2 (10% баллов) ###"
   ]
  },
  {
   "cell_type": "markdown",
   "metadata": {
    "deletable": true,
    "editable": true
   },
   "source": [
    "Рассмотрим задачу бинарной классификации. Будем считать, что все алгоритмы из базового семейства возвращают ответы из отрезка [0;1], которые можно интерпретировать как вероятности принадлежности классу 1. В качестве функции потерь возьмем отрицательный логарифм правдоподобия: $$L(y,z) = -(y \\cdot logz + (1-y) \\cdot log(1-z))$$\n",
    "В формуле $y$ - правильный ответ, $z$ - ответ алгоритма. Выпишите формулы для поиска базовых алгоритмов $b_n$ и коэффициентов $\\gamma_n$ в градиентном бустинге."
   ]
  },
  {
   "cell_type": "markdown",
   "metadata": {
    "deletable": true,
    "editable": true
   },
   "source": [
    "** Решение: **\n"
   ]
  },
  {
   "cell_type": "markdown",
   "metadata": {
    "deletable": true,
    "editable": true
   },
   "source": [
    "### Задача №3 (10% баллов) ###"
   ]
  },
  {
   "cell_type": "markdown",
   "metadata": {
    "deletable": true,
    "editable": true
   },
   "source": [
    "Известно, что на $n$-й итерации двухклассового метода AdaBoost был выбран базовый классификатор, допускающий ошибку только на одном объекте $x_j$. Найдите нормированный вес $w_j^{(n+1)}$ при этом объекте на следующей итерации."
   ]
  },
  {
   "cell_type": "markdown",
   "metadata": {
    "deletable": true,
    "editable": true
   },
   "source": [
    "## Часть 2. Random Forest ##"
   ]
  },
  {
   "cell_type": "markdown",
   "metadata": {
    "deletable": true,
    "editable": true
   },
   "source": [
    "### Реализуем класс RandomForest (40%)"
   ]
  },
  {
   "cell_type": "code",
   "execution_count": 2,
   "metadata": {
    "collapsed": true,
    "deletable": true,
    "editable": true
   },
   "outputs": [],
   "source": [
    "# реализуем bagging\n",
    "import random\n",
    "\n",
    "def bagging(X, y, size):\n",
    "    \n",
    "    sample_X = list()\n",
    "    sample_y = list()\n",
    "       \n",
    "    # заполняем sample_X и sample_y\n",
    "    while len(sample_X) < size:\n",
    "        index = random.randrange(len(X))\n",
    "        sample_X.append(X[index])\n",
    "        sample_y.append(y[index])\n",
    "    \n",
    "\n",
    "    return sample_X, sample_y"
   ]
  },
  {
   "cell_type": "code",
   "execution_count": 3,
   "metadata": {
    "collapsed": false,
    "deletable": true,
    "editable": true
   },
   "outputs": [],
   "source": [
    "import numpy as np\n",
    "import sklearn\n",
    "from sklearn.tree import DecisionTreeClassifier\n",
    "\n",
    "class RandomForest(sklearn.base.BaseEstimator, sklearn.base.ClassifierMixin):\n",
    "    def __init__(self, num_trees, max_depth=None, max_features=None, criterion='gini'):\n",
    "        \n",
    "        self.num_trees = num_trees\n",
    "        self.max_depth = max_depth\n",
    "        self.max_features = max_features\n",
    "        self.criterion = criterion\n",
    "        self.trees = []\n",
    "    \n",
    "    def fit(self, X_train, y_train):\n",
    "        \n",
    "        for item in range(self.num_trees):\n",
    "            \n",
    "            #генерируем случайную подвыборку с помощью bagging:\n",
    "            sample_X, sample_y = bagging(X_train, y_train, y_train.shape[0])\n",
    "            \n",
    "            # используем дерево из библиотеки sklearn\n",
    "            tree = DecisionTreeClassifier(criterion=self.criterion, max_depth=self.max_depth, max_features=self.max_features)\n",
    "            tree.fit(sample_X, sample_y)\n",
    "            self.trees.append(tree)\n",
    "        \n",
    "        return self\n",
    "    \n",
    "    def predict(self, X_test):\n",
    "        \n",
    "        y_pred = np.zeros(X_test.shape[0])\n",
    "        predictions = np.ndarray((self.num_trees, X_test.shape[0]))\n",
    "        for i in range(self.num_trees):\n",
    "            predictions[i] = self.trees[i].predict(X_test)\n",
    "        \n",
    "        #выбираем самые встречаемые классы\n",
    "        for i in range(X_test.shape[0]):\n",
    "            y_pred[i] = np.argmax(np.bincount(np.int64(predictions[:, i])))\n",
    "        \n",
    "        return y_pred"
   ]
  },
  {
   "cell_type": "markdown",
   "metadata": {
    "deletable": true,
    "editable": true
   },
   "source": [
    "## Тестирование (15%)"
   ]
  },
  {
   "cell_type": "markdown",
   "metadata": {
    "deletable": true,
    "editable": true
   },
   "source": [
    "Загрузим датасет Wine Data Set (https://archive.ics.uci.edu/ml/datasets/wine). Разделим выборку на обучающую и тестовую с помощью метода train_test_split, используя значения параметров test_size=0.2, random_state=42. Попробуем обучить Random Forest на предложенном датасете"
   ]
  },
  {
   "cell_type": "code",
   "execution_count": 4,
   "metadata": {
    "collapsed": false,
    "deletable": true,
    "editable": true
   },
   "outputs": [
    {
     "data": {
      "text/html": [
       "<div>\n",
       "<table border=\"1\" class=\"dataframe\">\n",
       "  <thead>\n",
       "    <tr style=\"text-align: right;\">\n",
       "      <th></th>\n",
       "      <th>target</th>\n",
       "      <th>Alcohol</th>\n",
       "      <th>MalicAcid</th>\n",
       "      <th>Ash</th>\n",
       "      <th>AlcalinityOfAsh</th>\n",
       "      <th>Magnesium</th>\n",
       "      <th>TotalPhenols</th>\n",
       "      <th>Flavanoids</th>\n",
       "      <th>NonflavanoidPhenols</th>\n",
       "      <th>Proanthocyanins</th>\n",
       "      <th>ColorIntensity</th>\n",
       "      <th>Hue</th>\n",
       "      <th>OD280/OD315OfDilutedWines</th>\n",
       "      <th>Proline</th>\n",
       "    </tr>\n",
       "  </thead>\n",
       "  <tbody>\n",
       "    <tr>\n",
       "      <th>0</th>\n",
       "      <td>1</td>\n",
       "      <td>14.23</td>\n",
       "      <td>1.71</td>\n",
       "      <td>2.43</td>\n",
       "      <td>15.6</td>\n",
       "      <td>127</td>\n",
       "      <td>2.80</td>\n",
       "      <td>3.06</td>\n",
       "      <td>0.28</td>\n",
       "      <td>2.29</td>\n",
       "      <td>5.64</td>\n",
       "      <td>1.04</td>\n",
       "      <td>3.92</td>\n",
       "      <td>1065</td>\n",
       "    </tr>\n",
       "    <tr>\n",
       "      <th>1</th>\n",
       "      <td>1</td>\n",
       "      <td>13.20</td>\n",
       "      <td>1.78</td>\n",
       "      <td>2.14</td>\n",
       "      <td>11.2</td>\n",
       "      <td>100</td>\n",
       "      <td>2.65</td>\n",
       "      <td>2.76</td>\n",
       "      <td>0.26</td>\n",
       "      <td>1.28</td>\n",
       "      <td>4.38</td>\n",
       "      <td>1.05</td>\n",
       "      <td>3.40</td>\n",
       "      <td>1050</td>\n",
       "    </tr>\n",
       "    <tr>\n",
       "      <th>2</th>\n",
       "      <td>1</td>\n",
       "      <td>13.16</td>\n",
       "      <td>2.36</td>\n",
       "      <td>2.67</td>\n",
       "      <td>18.6</td>\n",
       "      <td>101</td>\n",
       "      <td>2.80</td>\n",
       "      <td>3.24</td>\n",
       "      <td>0.30</td>\n",
       "      <td>2.81</td>\n",
       "      <td>5.68</td>\n",
       "      <td>1.03</td>\n",
       "      <td>3.17</td>\n",
       "      <td>1185</td>\n",
       "    </tr>\n",
       "    <tr>\n",
       "      <th>3</th>\n",
       "      <td>1</td>\n",
       "      <td>14.37</td>\n",
       "      <td>1.95</td>\n",
       "      <td>2.50</td>\n",
       "      <td>16.8</td>\n",
       "      <td>113</td>\n",
       "      <td>3.85</td>\n",
       "      <td>3.49</td>\n",
       "      <td>0.24</td>\n",
       "      <td>2.18</td>\n",
       "      <td>7.80</td>\n",
       "      <td>0.86</td>\n",
       "      <td>3.45</td>\n",
       "      <td>1480</td>\n",
       "    </tr>\n",
       "    <tr>\n",
       "      <th>4</th>\n",
       "      <td>1</td>\n",
       "      <td>13.24</td>\n",
       "      <td>2.59</td>\n",
       "      <td>2.87</td>\n",
       "      <td>21.0</td>\n",
       "      <td>118</td>\n",
       "      <td>2.80</td>\n",
       "      <td>2.69</td>\n",
       "      <td>0.39</td>\n",
       "      <td>1.82</td>\n",
       "      <td>4.32</td>\n",
       "      <td>1.04</td>\n",
       "      <td>2.93</td>\n",
       "      <td>735</td>\n",
       "    </tr>\n",
       "  </tbody>\n",
       "</table>\n",
       "</div>"
      ],
      "text/plain": [
       "   target  Alcohol  MalicAcid   Ash  AlcalinityOfAsh  Magnesium  TotalPhenols  \\\n",
       "0       1    14.23       1.71  2.43             15.6        127          2.80   \n",
       "1       1    13.20       1.78  2.14             11.2        100          2.65   \n",
       "2       1    13.16       2.36  2.67             18.6        101          2.80   \n",
       "3       1    14.37       1.95  2.50             16.8        113          3.85   \n",
       "4       1    13.24       2.59  2.87             21.0        118          2.80   \n",
       "\n",
       "   Flavanoids  NonflavanoidPhenols  Proanthocyanins  ColorIntensity   Hue  \\\n",
       "0        3.06                 0.28             2.29            5.64  1.04   \n",
       "1        2.76                 0.26             1.28            4.38  1.05   \n",
       "2        3.24                 0.30             2.81            5.68  1.03   \n",
       "3        3.49                 0.24             2.18            7.80  0.86   \n",
       "4        2.69                 0.39             1.82            4.32  1.04   \n",
       "\n",
       "   OD280/OD315OfDilutedWines  Proline  \n",
       "0                       3.92     1065  \n",
       "1                       3.40     1050  \n",
       "2                       3.17     1185  \n",
       "3                       3.45     1480  \n",
       "4                       2.93      735  "
      ]
     },
     "execution_count": 4,
     "metadata": {},
     "output_type": "execute_result"
    }
   ],
   "source": [
    "import pandas as pd \n",
    "from sklearn import preprocessing, model_selection\n",
    "\n",
    "# загружаем датасет\n",
    "df = pd.read_csv('https://archive.ics.uci.edu/ml/machine-learning-databases/wine/wine.data', header=None)\n",
    "columns = ('''target Alcohol MalicAcid Ash AlcalinityOfAsh Magnesium TotalPhenols\n",
    "           Flavanoids NonflavanoidPhenols Proanthocyanins ColorIntensity \n",
    "           Hue OD280/OD315OfDilutedWines Proline''')\n",
    "df.columns = columns.split()\n",
    "df.head()"
   ]
  },
  {
   "cell_type": "code",
   "execution_count": 5,
   "metadata": {
    "collapsed": false,
    "deletable": true,
    "editable": true
   },
   "outputs": [
    {
     "data": {
      "text/plain": [
       "(36, 13)"
      ]
     },
     "execution_count": 5,
     "metadata": {},
     "output_type": "execute_result"
    }
   ],
   "source": [
    "# как обычно перекодируем данные\n",
    "def number_encode_features(init_df):\n",
    "    result = init_df.copy()\n",
    "    encoders = {}\n",
    "    for column in result.columns:\n",
    "        if result.dtypes[column] == np.object:\n",
    "            encoders[column] = preprocessing.LabelEncoder()\n",
    "            result[column] = encoders[column].fit_transform(result[column])\n",
    "    return result, encoders\n",
    "\n",
    "encoded_data, encoders = number_encode_features(df)\n",
    "data = encoded_data.values\n",
    "\n",
    "# делим выборку на train и test\n",
    "train , test = model_selection.train_test_split(data, test_size=0.2, random_state=42)\n",
    "\n",
    "X_test, y_test = test[:,1:], test[:,0]\n",
    "X_train, y_train = train[:,1:], train[:,0]\n",
    "X_test.shape"
   ]
  },
  {
   "cell_type": "markdown",
   "metadata": {
    "deletable": true,
    "editable": true
   },
   "source": [
    "Проверим точность нашего классификатора:"
   ]
  },
  {
   "cell_type": "code",
   "execution_count": 6,
   "metadata": {
    "collapsed": false,
    "deletable": true,
    "editable": true
   },
   "outputs": [
    {
     "name": "stdout",
     "output_type": "stream",
     "text": [
      "test accuracy is  0.888888888889\n",
      "train accuracy is  0.971830985915\n"
     ]
    }
   ],
   "source": [
    "from sklearn import metrics\n",
    "my_clf = RandomForest(num_trees=1)\n",
    "my_clf.fit(X_train, y_train)\n",
    "print('test accuracy is ', metrics.accuracy_score(y_test, my_clf.predict(X_test)))\n",
    "print('train accuracy is ', metrics.accuracy_score(y_train, my_clf.predict(X_train)))"
   ]
  },
  {
   "cell_type": "markdown",
   "metadata": {
    "collapsed": true,
    "deletable": true,
    "editable": true
   },
   "source": [
    "Увеличим параметр num_trees. Пусть он теперь будет равен 5."
   ]
  },
  {
   "cell_type": "code",
   "execution_count": 7,
   "metadata": {
    "collapsed": false,
    "deletable": true,
    "editable": true
   },
   "outputs": [
    {
     "name": "stdout",
     "output_type": "stream",
     "text": [
      "test accuracy is  0.972222222222\n",
      "train accuracy is  0.978873239437\n"
     ]
    }
   ],
   "source": [
    "from sklearn import metrics\n",
    "my_clf = RandomForest(num_trees=5)\n",
    "my_clf.fit(X_train, y_train)\n",
    "print('test accuracy is ', metrics.accuracy_score(y_test, my_clf.predict(X_test)))\n",
    "print('train accuracy is ', metrics.accuracy_score(y_train, my_clf.predict(X_train)))"
   ]
  },
  {
   "cell_type": "markdown",
   "metadata": {
    "deletable": true,
    "editable": true
   },
   "source": [
    "Увеличим num_trees до 10:"
   ]
  },
  {
   "cell_type": "code",
   "execution_count": 8,
   "metadata": {
    "collapsed": false,
    "deletable": true,
    "editable": true
   },
   "outputs": [
    {
     "name": "stdout",
     "output_type": "stream",
     "text": [
      "test accuracy is  0.972222222222\n",
      "train accuracy is  0.992957746479\n"
     ]
    }
   ],
   "source": [
    "from sklearn import metrics\n",
    "my_clf = RandomForest(num_trees=10)\n",
    "my_clf.fit(X_train, y_train)\n",
    "print('test accuracy is ', metrics.accuracy_score(y_test, my_clf.predict(X_test)))\n",
    "print('train accuracy is ', metrics.accuracy_score(y_train, my_clf.predict(X_train)))"
   ]
  },
  {
   "cell_type": "code",
   "execution_count": 12,
   "metadata": {
    "collapsed": false
   },
   "outputs": [
    {
     "data": {
      "image/png": "[encoded data removed]",
      "text/plain": [
       "<matplotlib.figure.Figure at 0x7fe51bbc9c88>"
      ]
     },
     "metadata": {},
     "output_type": "display_data"
    }
   ],
   "source": [
    "import matplotlib.pyplot as plt\n",
    "from sklearn.ensemble import RandomForestClassifier\n",
    "\n",
    "my_scores = []\n",
    "scores = []\n",
    "num_trees = 100\n",
    "for i in range(1, num_trees):\n",
    "    clf1 = RandomForest(num_trees=i)\n",
    "    clf1.fit(X_train, y_train)\n",
    "    clf2 = RandomForestClassifier(n_estimators=i)\n",
    "    clf2.fit(X_train, y_train)\n",
    "    my_scores.append(metrics.accuracy_score(y_test, clf1.predict(X_test)))\n",
    "    scores.append(metrics.accuracy_score(y_test, clf2.predict(X_test)))\n",
    "plt.xlabel(\"num_trees\")\n",
    "plt.ylabel(\"score\")\n",
    "plt.title(\"RandomForest vs Sklearn RandomForestClassifier\")\n",
    "plt.plot(range(1, num_trees), my_scores, color='red')\n",
    "plt.plot(range(1, num_trees), scores, color='blue')\n",
    "plt.show()"
   ]
  },
  {
   "cell_type": "markdown",
   "metadata": {
    "deletable": true,
    "editable": true
   },
   "source": [
    "Видим, что точность при увеличении числа деревьев растёт и мы можем наблюдать следы переобучения.\n",
    "Теперь сравним наш классификатор с библиотечным."
   ]
  },
  {
   "cell_type": "code",
   "execution_count": 14,
   "metadata": {
    "collapsed": false,
    "deletable": true,
    "editable": true
   },
   "outputs": [
    {
     "name": "stdout",
     "output_type": "stream",
     "text": [
      "test accuracy is  0.944444444444\n",
      "train accuracy is  1.0\n"
     ]
    }
   ],
   "source": [
    "from sklearn.ensemble import RandomForestClassifier\n",
    "clf = RandomForestClassifier(n_estimators=10, criterion='gini')\n",
    "clf.fit(X_train, y_train)\n",
    "print('test accuracy is ', metrics.accuracy_score(y_test, clf.predict(X_test)))\n",
    "print('train accuracy is ', metrics.accuracy_score(y_train, clf.predict(X_train)))"
   ]
  },
  {
   "cell_type": "markdown",
   "metadata": {
    "deletable": true,
    "editable": true
   },
   "source": [
    "Cравнивая написанный RandomForest с библиотечным, видим, что наш оказался не хуже."
   ]
  },
  {
   "cell_type": "markdown",
   "metadata": {
    "deletable": true,
    "editable": true
   },
   "source": [
    "### Модификация Random Forest (15%)"
   ]
  },
  {
   "cell_type": "markdown",
   "metadata": {
    "deletable": true,
    "editable": true
   },
   "source": [
    "Изменим свою реализацию RandomForest так, чтобы случайное подмножество признаков выбиралось не в каждом сплите, а перед построением всего дерева. "
   ]
  },
  {
   "cell_type": "code",
   "execution_count": 15,
   "metadata": {
    "collapsed": true,
    "deletable": true,
    "editable": true
   },
   "outputs": [],
   "source": [
    "class RandomForestModified(sklearn.base.BaseEstimator, sklearn.base.ClassifierMixin):\n",
    "    def __init__(self, num_trees, max_depth=None, max_features=None, criterion='gini'):\n",
    "        \n",
    "        self.num_trees = num_trees\n",
    "        self.max_depth = max_depth\n",
    "        self.max_features = max_features\n",
    "        self.criterion = criterion\n",
    "        self.trees = []\n",
    "        self.indexes = []\n",
    "    \n",
    "    def fit(self, X_train, y_train):\n",
    "        \n",
    "        n_features = X_train.shape[1] - 1\n",
    "        \n",
    "        # определяем параметр self.max_features\n",
    "        if (type(self.max_features) == type(int)):\n",
    "            pass\n",
    "        elif (type(self.max_features) == type(float)):\n",
    "            self.max_features = int(self.max_features * n_features)\n",
    "        elif (self.max_features == 'sqrt'):\n",
    "            self.max_features = int(np.sqrt(n_features))\n",
    "        elif (self.max_features == 'log2'):\n",
    "            self.max_features = int(np.log2(n_features))\n",
    "        else:\n",
    "            self.max_features = n_features\n",
    "            \n",
    "        self.indexes = np.random.choice(n_features, self.max_features)\n",
    "        self.indexes.sort()\n",
    "        X_train = X_train[:,self.indexes]\n",
    "        \n",
    "        \n",
    "        for item in range(self.num_trees):\n",
    "            \n",
    "            #генерируем случайную подвыборку с помощью bagging:\n",
    "            sample_X, sample_y = bagging(X_train, y_train, y_train.shape[0])\n",
    "            \n",
    "            # используем дерево из библиотеки sklearn\n",
    "            tree = DecisionTreeClassifier(criterion=self.criterion, max_depth=self.max_depth)\n",
    "            tree.fit(sample_X, sample_y)\n",
    "            self.trees.append(tree)\n",
    "        \n",
    "        return self\n",
    "    \n",
    "    def predict(self, X_test):\n",
    "        \n",
    "        X_test = X_test[:, self.indexes]\n",
    "        y_pred = np.zeros(X_test.shape[0])\n",
    "        predictions = np.ndarray((self.num_trees, X_test.shape[0]))\n",
    "        for i in range(self.num_trees):\n",
    "            predictions[i] = self.trees[i].predict(X_test)\n",
    "        \n",
    "        #выбираем самые встречаемые классы\n",
    "        for i in range(X_test.shape[0]):\n",
    "            y_pred[i] = np.argmax(np.bincount(np.int64(predictions[:, i])))\n",
    "        \n",
    "        return y_pred"
   ]
  },
  {
   "cell_type": "code",
   "execution_count": 16,
   "metadata": {
    "collapsed": false,
    "deletable": true,
    "editable": true
   },
   "outputs": [
    {
     "name": "stdout",
     "output_type": "stream",
     "text": [
      "test accuracy is  0.944444444444\n",
      "train accuracy is  0.992957746479\n"
     ]
    }
   ],
   "source": [
    "from sklearn import metrics\n",
    "my_clf = RandomForestModified(num_trees=5)\n",
    "my_clf.fit(X_train, y_train)\n",
    "print('test accuracy is ', metrics.accuracy_score(y_test, my_clf.predict(X_test)))\n",
    "print('train accuracy is ', metrics.accuracy_score(y_train, my_clf.predict(X_train)))"
   ]
  },
  {
   "cell_type": "code",
   "execution_count": 17,
   "metadata": {
    "collapsed": false,
    "deletable": true,
    "editable": true
   },
   "outputs": [
    {
     "name": "stdout",
     "output_type": "stream",
     "text": [
      "test accuracy is  0.944444444444\n",
      "train accuracy is  0.992957746479\n"
     ]
    }
   ],
   "source": [
    "from sklearn import metrics\n",
    "my_clf = RandomForestModified(num_trees=10)\n",
    "my_clf.fit(X_train, y_train)\n",
    "print('test accuracy is ', metrics.accuracy_score(y_test, my_clf.predict(X_test)))\n",
    "print('train accuracy is ', metrics.accuracy_score(y_train, my_clf.predict(X_train)))"
   ]
  },
  {
   "cell_type": "code",
   "execution_count": 19,
   "metadata": {
    "collapsed": false,
    "deletable": true,
    "editable": true
   },
   "outputs": [
    {
     "data": {
      "image/png": "[encoded data removed]",
      "text/plain": [
       "<matplotlib.figure.Figure at 0x7fe51bbeee48>"
      ]
     },
     "metadata": {},
     "output_type": "display_data"
    }
   ],
   "source": [
    "import matplotlib.pyplot as plt\n",
    "from sklearn.ensemble import RandomForestClassifier\n",
    "\n",
    "my_scores = []\n",
    "scores = []\n",
    "num_trees = 100\n",
    "for i in range(1, num_trees):\n",
    "    clf1 = RandomForest(num_trees=i)\n",
    "    clf1.fit(X_train, y_train)\n",
    "    clf2 = RandomForestModified(num_trees=i)\n",
    "    clf2.fit(X_train, y_train)\n",
    "    my_scores.append(metrics.accuracy_score(y_test, clf1.predict(X_test)))\n",
    "    scores.append(metrics.accuracy_score(y_test, clf2.predict(X_test)))\n",
    "plt.xlabel(\"num_trees\")\n",
    "plt.ylabel(\"score\")\n",
    "plt.title(\"RandomForest vs RandomForestModified\")\n",
    "plt.plot(range(1, num_trees), my_scores, color='red')\n",
    "plt.plot(range(1, num_trees), scores, color='blue')\n",
    "plt.show()"
   ]
  },
  {
   "cell_type": "code",
   "execution_count": null,
   "metadata": {
    "collapsed": true
   },
   "outputs": [],
   "source": []
  }
 ],
 "metadata": {
  "kernelspec": {
   "display_name": "Python 3",
   "language": "python",
   "name": "python3"
  },
  "language_info": {
   "codemirror_mode": {
    "name": "ipython",
    "version": 3
   },
   "file_extension": ".py",
   "mimetype": "text/x-python",
   "name": "python",
   "nbconvert_exporter": "python",
   "pygments_lexer": "ipython3",
   "version": "3.5.2+"
  }
 },
 "nbformat": 4,
 "nbformat_minor": 2
}
